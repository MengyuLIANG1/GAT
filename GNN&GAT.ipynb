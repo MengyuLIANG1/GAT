{
  "cells": [
    {
      "cell_type": "markdown",
      "metadata": {
        "id": "view-in-github",
        "colab_type": "text"
      },
      "source": [
        "<a href=\"https://colab.research.google.com/github/MengyuLIANG1/GAT/blob/main/GNN%26GAT.ipynb\" target=\"_parent\"><img src=\"https://colab.research.google.com/assets/colab-badge.svg\" alt=\"Open In Colab\"/></a>"
      ]
    },
    {
      "cell_type": "markdown",
      "metadata": {
        "id": "nlCNZsWlOSfP"
      },
      "source": [
        "# Practical Session on Graph Neural Networks\n",
        "\n",
        "**by Matthieu Nastorg**"
      ]
    },
    {
      "cell_type": "markdown",
      "metadata": {
        "id": "p0RMEfCaEehI"
      },
      "source": [
        "## **PART 1 : CODING** (8/20)"
      ]
    },
    {
      "cell_type": "markdown",
      "metadata": {
        "id": "v5Lp4PasOby4"
      },
      "source": [
        "### Install Pytorch Geometric\n",
        "\n",
        "To handle graph data, we use the library Pytorch Geometric : https://pytorch-geometric.readthedocs.io/en/latest/\n",
        "\n",
        "*   If you use _Google Colab_, simply run the following cell to install Pytorch Geometric (**advised**).\n",
        "*   If you plan using your _own environment_, follow the documentation to install Pytorch Geometric : https://pytorch-geometric.readthedocs.io/en/latest/install/installation.html and skip the following cell."
      ]
    },
    {
      "cell_type": "code",
      "execution_count": null,
      "metadata": {
        "id": "buW3eZmrj1N2",
        "colab": {
          "base_uri": "https://localhost:8080/",
          "height": 1000
        },
        "outputId": "5fd80295-6140-4a58-98fc-eb190160c1db"
      },
      "outputs": [
        {
          "output_type": "stream",
          "name": "stdout",
          "text": [
            "Looking in indexes: https://pypi.org/simple, https://us-python.pkg.dev/colab-wheels/public/simple/\n",
            "Looking in links: https://pytorch-geometric.com/whl/torch-1.13.1+cu116.html\n",
            "Collecting torch-scatter\n",
            "  Downloading https://data.pyg.org/whl/torch-1.13.0%2Bcu116/torch_scatter-2.1.0%2Bpt113cu116-cp38-cp38-linux_x86_64.whl (9.4 MB)\n",
            "\u001b[2K     \u001b[90m━━━━━━━━━━━━━━━━━━━━━━━━━━━━━━━━━━━━━━━━\u001b[0m \u001b[32m9.4/9.4 MB\u001b[0m \u001b[31m38.3 MB/s\u001b[0m eta \u001b[36m0:00:00\u001b[0m\n",
            "\u001b[?25hInstalling collected packages: torch-scatter\n",
            "Successfully installed torch-scatter-2.1.0+pt113cu116\n",
            "Looking in indexes: https://pypi.org/simple, https://us-python.pkg.dev/colab-wheels/public/simple/\n",
            "Looking in links: https://pytorch-geometric.com/whl/torch-1.13.1+cu116.html\n",
            "Collecting torch-sparse\n",
            "  Downloading https://data.pyg.org/whl/torch-1.13.0%2Bcu116/torch_sparse-0.6.16%2Bpt113cu116-cp38-cp38-linux_x86_64.whl (4.5 MB)\n",
            "\u001b[2K     \u001b[90m━━━━━━━━━━━━━━━━━━━━━━━━━━━━━━━━━━━━━━━━\u001b[0m \u001b[32m4.5/4.5 MB\u001b[0m \u001b[31m24.7 MB/s\u001b[0m eta \u001b[36m0:00:00\u001b[0m\n",
            "\u001b[?25hRequirement already satisfied: scipy in /usr/local/lib/python3.8/dist-packages (from torch-sparse) (1.10.1)\n",
            "Requirement already satisfied: numpy<1.27.0,>=1.19.5 in /usr/local/lib/python3.8/dist-packages (from scipy->torch-sparse) (1.22.4)\n",
            "Installing collected packages: torch-sparse\n",
            "Successfully installed torch-sparse-0.6.16+pt113cu116\n",
            "Looking in indexes: https://pypi.org/simple, https://us-python.pkg.dev/colab-wheels/public/simple/\n",
            "Looking in links: https://pytorch-geometric.com/whl/torch-1.13.1+cu116.html\n",
            "Collecting torch-cluster\n",
            "  Downloading https://data.pyg.org/whl/torch-1.13.0%2Bcu116/torch_cluster-1.6.0%2Bpt113cu116-cp38-cp38-linux_x86_64.whl (3.2 MB)\n",
            "\u001b[2K     \u001b[90m━━━━━━━━━━━━━━━━━━━━━━━━━━━━━━━━━━━━━━━━\u001b[0m \u001b[32m3.2/3.2 MB\u001b[0m \u001b[31m17.7 MB/s\u001b[0m eta \u001b[36m0:00:00\u001b[0m\n",
            "\u001b[?25hRequirement already satisfied: scipy in /usr/local/lib/python3.8/dist-packages (from torch-cluster) (1.10.1)\n",
            "Requirement already satisfied: numpy<1.27.0,>=1.19.5 in /usr/local/lib/python3.8/dist-packages (from scipy->torch-cluster) (1.22.4)\n",
            "Installing collected packages: torch-cluster\n",
            "Successfully installed torch-cluster-1.6.0+pt113cu116\n",
            "Looking in indexes: https://pypi.org/simple, https://us-python.pkg.dev/colab-wheels/public/simple/\n",
            "Looking in links: https://pytorch-geometric.com/whl/torch-1.13.1+cu116.html\n",
            "Collecting torch-spline-conv\n",
            "  Downloading https://data.pyg.org/whl/torch-1.13.0%2Bcu116/torch_spline_conv-1.2.1%2Bpt113cu116-cp38-cp38-linux_x86_64.whl (873 kB)\n",
            "\u001b[2K     \u001b[90m━━━━━━━━━━━━━━━━━━━━━━━━━━━━━━━━━━━━━━━\u001b[0m \u001b[32m873.9/873.9 KB\u001b[0m \u001b[31m7.4 MB/s\u001b[0m eta \u001b[36m0:00:00\u001b[0m\n",
            "\u001b[?25hInstalling collected packages: torch-spline-conv\n",
            "Successfully installed torch-spline-conv-1.2.1+pt113cu116\n",
            "Looking in indexes: https://pypi.org/simple, https://us-python.pkg.dev/colab-wheels/public/simple/\n",
            "Collecting torch-geometric\n",
            "  Downloading torch_geometric-2.2.0.tar.gz (564 kB)\n",
            "\u001b[2K     \u001b[90m━━━━━━━━━━━━━━━━━━━━━━━━━━━━━━━━━━━━━━\u001b[0m \u001b[32m565.0/565.0 KB\u001b[0m \u001b[31m10.5 MB/s\u001b[0m eta \u001b[36m0:00:00\u001b[0m\n",
            "\u001b[?25h  Preparing metadata (setup.py) ... \u001b[?25l\u001b[?25hdone\n",
            "Requirement already satisfied: tqdm in /usr/local/lib/python3.8/dist-packages (from torch-geometric) (4.64.1)\n",
            "Requirement already satisfied: numpy in /usr/local/lib/python3.8/dist-packages (from torch-geometric) (1.22.4)\n",
            "Requirement already satisfied: scipy in /usr/local/lib/python3.8/dist-packages (from torch-geometric) (1.10.1)\n",
            "Requirement already satisfied: jinja2 in /usr/local/lib/python3.8/dist-packages (from torch-geometric) (3.1.2)\n",
            "Requirement already satisfied: requests in /usr/local/lib/python3.8/dist-packages (from torch-geometric) (2.25.1)\n",
            "Requirement already satisfied: pyparsing in /usr/local/lib/python3.8/dist-packages (from torch-geometric) (3.0.9)\n",
            "Requirement already satisfied: scikit-learn in /usr/local/lib/python3.8/dist-packages (from torch-geometric) (1.2.1)\n",
            "Collecting psutil>=5.8.0\n",
            "  Downloading psutil-5.9.4-cp36-abi3-manylinux_2_12_x86_64.manylinux2010_x86_64.manylinux_2_17_x86_64.manylinux2014_x86_64.whl (280 kB)\n",
            "\u001b[2K     \u001b[90m━━━━━━━━━━━━━━━━━━━━━━━━━━━━━━━━━━━━━━\u001b[0m \u001b[32m280.2/280.2 KB\u001b[0m \u001b[31m33.6 MB/s\u001b[0m eta \u001b[36m0:00:00\u001b[0m\n",
            "\u001b[?25hRequirement already satisfied: MarkupSafe>=2.0 in /usr/local/lib/python3.8/dist-packages (from jinja2->torch-geometric) (2.1.2)\n",
            "Requirement already satisfied: certifi>=2017.4.17 in /usr/local/lib/python3.8/dist-packages (from requests->torch-geometric) (2022.12.7)\n",
            "Requirement already satisfied: chardet<5,>=3.0.2 in /usr/local/lib/python3.8/dist-packages (from requests->torch-geometric) (4.0.0)\n",
            "Requirement already satisfied: urllib3<1.27,>=1.21.1 in /usr/local/lib/python3.8/dist-packages (from requests->torch-geometric) (1.26.14)\n",
            "Requirement already satisfied: idna<3,>=2.5 in /usr/local/lib/python3.8/dist-packages (from requests->torch-geometric) (2.10)\n",
            "Requirement already satisfied: joblib>=1.1.1 in /usr/local/lib/python3.8/dist-packages (from scikit-learn->torch-geometric) (1.2.0)\n",
            "Requirement already satisfied: threadpoolctl>=2.0.0 in /usr/local/lib/python3.8/dist-packages (from scikit-learn->torch-geometric) (3.1.0)\n",
            "Building wheels for collected packages: torch-geometric\n",
            "  Building wheel for torch-geometric (setup.py) ... \u001b[?25l\u001b[?25hdone\n",
            "  Created wheel for torch-geometric: filename=torch_geometric-2.2.0-py3-none-any.whl size=773302 sha256=a27534e037d00ccaf25370537818b507ad403b5935ced26e6f9372816f69a173\n",
            "  Stored in directory: /root/.cache/pip/wheels/59/a3/20/198928106d3169865ae73afcbd3d3d1796cf6b429b55c65378\n",
            "Successfully built torch-geometric\n",
            "Installing collected packages: psutil, torch-geometric\n",
            "  Attempting uninstall: psutil\n",
            "    Found existing installation: psutil 5.4.8\n",
            "    Uninstalling psutil-5.4.8:\n",
            "      Successfully uninstalled psutil-5.4.8\n",
            "Successfully installed psutil-5.9.4 torch-geometric-2.2.0\n"
          ]
        },
        {
          "output_type": "display_data",
          "data": {
            "application/vnd.colab-display-data+json": {
              "pip_warning": {
                "packages": [
                  "psutil"
                ]
              }
            }
          },
          "metadata": {}
        }
      ],
      "source": [
        "########## INSTALL TORCH GEOMETRIC ##################\n",
        "# https://pytorch-geometric.readthedocs.io/en/latest/ \n",
        "#####################################################\n",
        "import torch \n",
        "\n",
        "def format_pytorch_version(version):\n",
        "  return version.split('+')[0]\n",
        "\n",
        "TORCH_version = torch.__version__\n",
        "TORCH = format_pytorch_version(TORCH_version)\n",
        "\n",
        "def format_cuda_version(version):\n",
        "  return 'cu' + version.replace('.', '')\n",
        "\n",
        "CUDA_version = torch.version.cuda\n",
        "CUDA = format_cuda_version(CUDA_version)\n",
        "\n",
        "!pip install torch-scatter     -f https://pytorch-geometric.com/whl/torch-{TORCH}+{CUDA}.html\n",
        "!pip install torch-sparse      -f https://pytorch-geometric.com/whl/torch-{TORCH}+{CUDA}.html\n",
        "!pip install torch-cluster     -f https://pytorch-geometric.com/whl/torch-{TORCH}+{CUDA}.html\n",
        "!pip install torch-spline-conv -f https://pytorch-geometric.com/whl/torch-{TORCH}+{CUDA}.html\n",
        "!pip install torch-geometric"
      ]
    },
    {
      "cell_type": "markdown",
      "metadata": {
        "id": "04JPKXjDclTj"
      },
      "source": [
        "### Import required packages\n",
        "\n",
        "Run the following cell to import all required packages. This cell **must not** be modified.\n",
        "\n",
        "To significantly accelerate your training, it is advised to use GPU. Using Google Colab, you need to activate it : \n",
        "\n",
        "*   Edit --> Notebook Setting --> Hardware accelerator --> GPU"
      ]
    },
    {
      "cell_type": "code",
      "execution_count": null,
      "metadata": {
        "id": "qXGDmBMYgA_x"
      },
      "outputs": [],
      "source": [
        "#####################################################\n",
        "################## PACKAGES #########################\n",
        "#####################################################\n",
        "import numpy as np\n",
        "import matplotlib.pyplot as plt\n",
        "\n",
        "import torch.nn as nn\n",
        "import torch_geometric.nn as graphnn\n",
        "from sklearn.metrics import f1_score\n",
        "from torch_geometric.datasets import PPI\n",
        "from torch_geometric.loader import DataLoader"
      ]
    },
    {
      "cell_type": "markdown",
      "metadata": {
        "id": "3UvCNG8FgdS-"
      },
      "source": [
        "### Dataset\n",
        "\n",
        "We use the Protein-Protein Interaction (PPI) network dataset which includes:\n",
        "- 20 graphs for training \n",
        "- 2 graphs for validation\n",
        "- 2 graphs for testing\n",
        "\n",
        "One graph of the PPI dataset has on average 2372 nodes. Each node:\n",
        "- 50 features : positional gene sets / motif gene / immunological signatures ...\n",
        "- 121 (binary) labels : gene ontology sets (way to classify gene products like proteins).\n",
        "\n",
        "**This problem aims to predict, for a given PPI graph, the correct node's labels**.\n",
        "\n",
        "**It is a node (multi-level) classification task** (trained using supervised learning). \n",
        "\n",
        "For your curiosity, more details information on the dataset and some applications:\n",
        "- https://cs.stanford.edu/~jure/pubs/pathways-psb18.pdf\n",
        "- https://arxiv.org/abs/1707.04638\n",
        "\n",
        "To understand how a graph data is implemented in Pytorch Geometric, refer to : https://pytorch-geometric.readthedocs.io/en/latest/get_started/introduction.html\n"
      ]
    },
    {
      "cell_type": "code",
      "execution_count": null,
      "metadata": {
        "colab": {
          "base_uri": "https://localhost:8080/"
        },
        "id": "IwdNhvzVNkZB",
        "outputId": "101f6b83-611a-4d04-a4d9-3942fccebcd4"
      },
      "outputs": [
        {
          "output_type": "stream",
          "name": "stderr",
          "text": [
            "Downloading https://data.dgl.ai/dataset/ppi.zip\n",
            "Extracting ./ppi.zip\n",
            "Processing...\n"
          ]
        },
        {
          "output_type": "stream",
          "name": "stdout",
          "text": [
            "Number of samples in the train dataset:  20\n",
            "Number of samples in the val dataset:  2\n",
            "Number of samples in the test dataset:  2\n",
            "Output of one sample from the train dataset:  Data(x=[1767, 50], edge_index=[2, 32318], y=[1767, 121])\n",
            "Edge_index :\n",
            "tensor([[   0,    0,    0,  ..., 1744, 1745, 1749],\n",
            "        [ 372, 1101,  766,  ..., 1745, 1744, 1739]])\n",
            "Number of features per node:  50\n",
            "Number of classes per node:  121\n"
          ]
        },
        {
          "output_type": "stream",
          "name": "stderr",
          "text": [
            "Done!\n"
          ]
        }
      ],
      "source": [
        "### LOAD DATASETS\n",
        "\n",
        "BATCH_SIZE = 2 \n",
        "\n",
        "# Train Dataset\n",
        "train_dataset = PPI(root=\"\", split='train')\n",
        "train_dataloader = DataLoader(train_dataset, batch_size=BATCH_SIZE)\n",
        "# Val Dataset\n",
        "val_dataset = PPI(root=\"\", split='val')\n",
        "val_dataloader = DataLoader(val_dataset, batch_size=BATCH_SIZE)\n",
        "# Test Dataset\n",
        "test_dataset = PPI(root=\"\", split='test')\n",
        "test_dataloader = DataLoader(test_dataset, batch_size=BATCH_SIZE)\n",
        "\n",
        "# Number of features and classes\n",
        "n_features, n_classes = train_dataset[0].x.shape[1], train_dataset[0].y.shape[1]\n",
        "\n",
        "print(\"Number of samples in the train dataset: \", len(train_dataset))\n",
        "print(\"Number of samples in the val dataset: \", len(test_dataset))\n",
        "print(\"Number of samples in the test dataset: \", len(test_dataset))\n",
        "print(\"Output of one sample from the train dataset: \", train_dataset[0])\n",
        "print(\"Edge_index :\")\n",
        "print(train_dataset[0].edge_index)\n",
        "print(\"Number of features per node: \", n_features)\n",
        "print(\"Number of classes per node: \", n_classes)"
      ]
    },
    {
      "cell_type": "code",
      "source": [
        "for i, train_batch in enumerate(train_dataloader):\n",
        "            print(train_batch.x.shape,train_batch.y.shape)"
      ],
      "metadata": {
        "colab": {
          "base_uri": "https://localhost:8080/"
        },
        "id": "0n4Xp_t55FA-",
        "outputId": "0c3897a9-4bf8-4659-b61d-cef9e0ad9684"
      },
      "execution_count": null,
      "outputs": [
        {
          "output_type": "stream",
          "name": "stdout",
          "text": [
            "torch.Size([3144, 50]) torch.Size([3144, 121])\n",
            "torch.Size([4602, 50]) torch.Size([4602, 121])\n",
            "torch.Size([2599, 50]) torch.Size([2599, 121])\n",
            "torch.Size([4311, 50]) torch.Size([4311, 121])\n",
            "torch.Size([3903, 50]) torch.Size([3903, 121])\n",
            "torch.Size([4279, 50]) torch.Size([4279, 121])\n",
            "torch.Size([5299, 50]) torch.Size([5299, 121])\n",
            "torch.Size([5120, 50]) torch.Size([5120, 121])\n",
            "torch.Size([5465, 50]) torch.Size([5465, 121])\n",
            "torch.Size([6184, 50]) torch.Size([6184, 121])\n"
          ]
        }
      ]
    },
    {
      "cell_type": "markdown",
      "metadata": {
        "id": "hiCcn9qeO6Nm"
      },
      "source": [
        "### Define a basic Model"
      ]
    },
    {
      "cell_type": "markdown",
      "metadata": {
        "id": "8RjzEiJ-eVot"
      },
      "source": [
        "Here we define a very simple Graph Neural Network model which will be used as our baseline. This model consists of three graph convolutional layers (from https://arxiv.org/pdf/1609.02907.pdf). The first two layers computes 256 features, followed by an ELU activation function. The last layer is used for (multi-level) classification task, computing 121 features."
      ]
    },
    {
      "cell_type": "code",
      "execution_count": null,
      "metadata": {
        "id": "2Km-GN1aMpd_"
      },
      "outputs": [],
      "source": [
        "#####################################################\n",
        "################## MODEL ############################\n",
        "#####################################################\n",
        "class BasicGraphModel(nn.Module):\n",
        "\n",
        "    def __init__(self, input_size, hidden_size, output_size):\n",
        "        super().__init__()\n",
        "\n",
        "        self.graphconv1 = graphnn.GCNConv(input_size, hidden_size)\n",
        "        self.graphconv2 = graphnn.GCNConv(hidden_size, hidden_size)\n",
        "        self.graphconv3 = graphnn.GCNConv(hidden_size, output_size)\n",
        "\n",
        "        self.elu = nn.ELU()\n",
        "\n",
        "    def forward(self, x, edge_index):\n",
        "\n",
        "        x = self.graphconv1(x, edge_index)\n",
        "        x = self.elu(x)\n",
        "        x = self.graphconv2(x, edge_index)\n",
        "        x = self.elu(x)\n",
        "        x = self.graphconv3(x, edge_index)\n",
        "\n",
        "        return x"
      ]
    },
    {
      "cell_type": "markdown",
      "metadata": {
        "id": "6ekk0TrOktOB"
      },
      "source": [
        "Next we construct the function to train the model."
      ]
    },
    {
      "cell_type": "code",
      "execution_count": null,
      "metadata": {
        "id": "m4lneoadMxqy"
      },
      "outputs": [],
      "source": [
        "#####################################################\n",
        "############## TRAIN FUNCTION #######################\n",
        "#####################################################\n",
        "def train(model, loss_fcn, device, optimizer, max_epochs, train_dataloader, val_dataloader):\n",
        "\n",
        "    epoch_list = []\n",
        "    scores_list = []\n",
        "\n",
        "    # loop over epochs\n",
        "    for epoch in range(max_epochs):\n",
        "        model.train()\n",
        "        losses = []\n",
        "        # loop over batches\n",
        "        for i, train_batch in enumerate(train_dataloader):\n",
        "            optimizer.zero_grad()\n",
        "            train_batch_device = train_batch.to(device)\n",
        "            # logits is the output of the model\n",
        "            logits = model(train_batch_device.x, train_batch_device.edge_index)\n",
        "            # compute the loss\n",
        "            loss = loss_fcn(logits, train_batch_device.y)\n",
        "            # optimizer step\n",
        "            loss.backward()\n",
        "            optimizer.step()\n",
        "            losses.append(loss.item())\n",
        "        loss_data = np.array(losses).mean()\n",
        "        print(\"Epoch {:05d} | Loss: {:.4f}\".format(epoch + 1, loss_data))\n",
        "\n",
        "        if epoch % 5 == 0:\n",
        "            # evaluate the model on the validation set\n",
        "            # computes the f1-score (see next function)\n",
        "            score = evaluate(model, loss_fcn, device, val_dataloader)\n",
        "            print(\"F1-Score: {:.4f}\".format(score))\n",
        "            scores_list.append(score)\n",
        "            epoch_list.append(epoch)\n",
        "\n",
        "    return epoch_list, scores_list"
      ]
    },
    {
      "cell_type": "markdown",
      "metadata": {
        "id": "PTd9OqaelLni"
      },
      "source": [
        "Next function is designed to evaluate the performance of the model, computing the F1-Score"
      ]
    },
    {
      "cell_type": "code",
      "execution_count": null,
      "metadata": {
        "id": "PajZzg5zM7V1"
      },
      "outputs": [],
      "source": [
        "#####################################################\n",
        "############### TEST FUNCTION #######################\n",
        "#####################################################\n",
        "def evaluate(model, loss_fcn, device, dataloader):\n",
        "\n",
        "    score_list_batch = []\n",
        "\n",
        "    model.eval()\n",
        "    for i, batch in enumerate(dataloader):\n",
        "        batch = batch.to(device)\n",
        "        output = model(batch.x, batch.edge_index)\n",
        "        loss_test = loss_fcn(output, batch.y)\n",
        "        predict = np.where(output.detach().cpu().numpy() >= 0, 1, 0)\n",
        "        score = f1_score(batch.y.cpu().numpy(), predict, average=\"micro\")\n",
        "        score_list_batch.append(score)\n",
        "\n",
        "    return np.array(score_list_batch).mean()"
      ]
    },
    {
      "cell_type": "markdown",
      "metadata": {
        "id": "EilgopwMlpsu"
      },
      "source": [
        "Let's train this model !"
      ]
    },
    {
      "cell_type": "code",
      "execution_count": null,
      "metadata": {
        "colab": {
          "base_uri": "https://localhost:8080/"
        },
        "id": "Xkqo7e0gNACE",
        "outputId": "1872fb20-cbc5-44fc-8507-fbfc3e7a96c4"
      },
      "outputs": [
        {
          "output_type": "stream",
          "name": "stdout",
          "text": [
            "\n",
            "Device:  cuda\n",
            "Epoch 00001 | Loss: 0.6367\n",
            "F1-Score: 0.4423\n",
            "Epoch 00002 | Loss: 0.5807\n",
            "Epoch 00003 | Loss: 0.5617\n",
            "Epoch 00004 | Loss: 0.5559\n",
            "Epoch 00005 | Loss: 0.5511\n",
            "Epoch 00006 | Loss: 0.5463\n",
            "F1-Score: 0.4984\n",
            "Epoch 00007 | Loss: 0.5417\n",
            "Epoch 00008 | Loss: 0.5374\n",
            "Epoch 00009 | Loss: 0.5340\n",
            "Epoch 00010 | Loss: 0.5314\n",
            "Epoch 00011 | Loss: 0.5289\n",
            "F1-Score: 0.5298\n",
            "Epoch 00012 | Loss: 0.5263\n",
            "Epoch 00013 | Loss: 0.5238\n",
            "Epoch 00014 | Loss: 0.5214\n",
            "Epoch 00015 | Loss: 0.5192\n",
            "Epoch 00016 | Loss: 0.5172\n",
            "F1-Score: 0.5201\n",
            "Epoch 00017 | Loss: 0.5151\n",
            "Epoch 00018 | Loss: 0.5131\n",
            "Epoch 00019 | Loss: 0.5109\n",
            "Epoch 00020 | Loss: 0.5082\n",
            "Epoch 00021 | Loss: 0.5060\n",
            "F1-Score: 0.5325\n",
            "Epoch 00022 | Loss: 0.5042\n",
            "Epoch 00023 | Loss: 0.5023\n",
            "Epoch 00024 | Loss: 0.5004\n",
            "Epoch 00025 | Loss: 0.4987\n",
            "Epoch 00026 | Loss: 0.4968\n",
            "F1-Score: 0.5360\n",
            "Epoch 00027 | Loss: 0.4949\n",
            "Epoch 00028 | Loss: 0.4931\n",
            "Epoch 00029 | Loss: 0.4914\n",
            "Epoch 00030 | Loss: 0.4898\n",
            "Epoch 00031 | Loss: 0.4884\n",
            "F1-Score: 0.5319\n",
            "Epoch 00032 | Loss: 0.4872\n",
            "Epoch 00033 | Loss: 0.4856\n",
            "Epoch 00034 | Loss: 0.4834\n",
            "Epoch 00035 | Loss: 0.4820\n",
            "Epoch 00036 | Loss: 0.4800\n",
            "F1-Score: 0.5387\n",
            "Epoch 00037 | Loss: 0.4789\n",
            "Epoch 00038 | Loss: 0.4772\n",
            "Epoch 00039 | Loss: 0.4754\n",
            "Epoch 00040 | Loss: 0.4737\n",
            "Epoch 00041 | Loss: 0.4720\n",
            "F1-Score: 0.5566\n",
            "Epoch 00042 | Loss: 0.4707\n",
            "Epoch 00043 | Loss: 0.4693\n",
            "Epoch 00044 | Loss: 0.4681\n",
            "Epoch 00045 | Loss: 0.4671\n",
            "Epoch 00046 | Loss: 0.4667\n",
            "F1-Score: 0.5612\n",
            "Epoch 00047 | Loss: 0.4663\n",
            "Epoch 00048 | Loss: 0.4663\n",
            "Epoch 00049 | Loss: 0.4660\n",
            "Epoch 00050 | Loss: 0.4648\n",
            "Epoch 00051 | Loss: 0.4636\n",
            "F1-Score: 0.5678\n",
            "Epoch 00052 | Loss: 0.4624\n",
            "Epoch 00053 | Loss: 0.4604\n",
            "Epoch 00054 | Loss: 0.4596\n",
            "Epoch 00055 | Loss: 0.4573\n",
            "Epoch 00056 | Loss: 0.4560\n",
            "F1-Score: 0.5884\n",
            "Epoch 00057 | Loss: 0.4553\n",
            "Epoch 00058 | Loss: 0.4557\n",
            "Epoch 00059 | Loss: 0.4544\n",
            "Epoch 00060 | Loss: 0.4525\n",
            "Epoch 00061 | Loss: 0.4515\n",
            "F1-Score: 0.5951\n",
            "Epoch 00062 | Loss: 0.4523\n",
            "Epoch 00063 | Loss: 0.4506\n",
            "Epoch 00064 | Loss: 0.4500\n",
            "Epoch 00065 | Loss: 0.4492\n",
            "Epoch 00066 | Loss: 0.4495\n",
            "F1-Score: 0.5998\n",
            "Epoch 00067 | Loss: 0.4482\n",
            "Epoch 00068 | Loss: 0.4478\n",
            "Epoch 00069 | Loss: 0.4484\n",
            "Epoch 00070 | Loss: 0.4478\n",
            "Epoch 00071 | Loss: 0.4466\n",
            "F1-Score: 0.6146\n",
            "Epoch 00072 | Loss: 0.4466\n",
            "Epoch 00073 | Loss: 0.4453\n",
            "Epoch 00074 | Loss: 0.4437\n",
            "Epoch 00075 | Loss: 0.4425\n",
            "Epoch 00076 | Loss: 0.4426\n",
            "F1-Score: 0.6157\n",
            "Epoch 00077 | Loss: 0.4417\n",
            "Epoch 00078 | Loss: 0.4420\n",
            "Epoch 00079 | Loss: 0.4408\n",
            "Epoch 00080 | Loss: 0.4406\n",
            "Epoch 00081 | Loss: 0.4399\n",
            "F1-Score: 0.6093\n",
            "Epoch 00082 | Loss: 0.4396\n",
            "Epoch 00083 | Loss: 0.4395\n",
            "Epoch 00084 | Loss: 0.4390\n",
            "Epoch 00085 | Loss: 0.4386\n",
            "Epoch 00086 | Loss: 0.4408\n",
            "F1-Score: 0.6199\n",
            "Epoch 00087 | Loss: 0.4406\n",
            "Epoch 00088 | Loss: 0.4400\n",
            "Epoch 00089 | Loss: 0.4422\n",
            "Epoch 00090 | Loss: 0.4456\n",
            "Epoch 00091 | Loss: 0.4430\n",
            "F1-Score: 0.5640\n",
            "Epoch 00092 | Loss: 0.4442\n",
            "Epoch 00093 | Loss: 0.4413\n",
            "Epoch 00094 | Loss: 0.4388\n",
            "Epoch 00095 | Loss: 0.4379\n",
            "Epoch 00096 | Loss: 0.4356\n",
            "F1-Score: 0.6171\n",
            "Epoch 00097 | Loss: 0.4355\n",
            "Epoch 00098 | Loss: 0.4354\n",
            "Epoch 00099 | Loss: 0.4345\n",
            "Epoch 00100 | Loss: 0.4333\n",
            "Epoch 00101 | Loss: 0.4330\n",
            "F1-Score: 0.6071\n",
            "Epoch 00102 | Loss: 0.4320\n",
            "Epoch 00103 | Loss: 0.4300\n",
            "Epoch 00104 | Loss: 0.4287\n",
            "Epoch 00105 | Loss: 0.4303\n",
            "Epoch 00106 | Loss: 0.4301\n",
            "F1-Score: 0.5790\n",
            "Epoch 00107 | Loss: 0.4290\n",
            "Epoch 00108 | Loss: 0.4304\n",
            "Epoch 00109 | Loss: 0.4309\n",
            "Epoch 00110 | Loss: 0.4299\n",
            "Epoch 00111 | Loss: 0.4300\n",
            "F1-Score: 0.5991\n",
            "Epoch 00112 | Loss: 0.4313\n",
            "Epoch 00113 | Loss: 0.4285\n",
            "Epoch 00114 | Loss: 0.4265\n",
            "Epoch 00115 | Loss: 0.4247\n",
            "Epoch 00116 | Loss: 0.4233\n",
            "F1-Score: 0.6175\n",
            "Epoch 00117 | Loss: 0.4223\n",
            "Epoch 00118 | Loss: 0.4205\n",
            "Epoch 00119 | Loss: 0.4196\n",
            "Epoch 00120 | Loss: 0.4195\n",
            "Epoch 00121 | Loss: 0.4191\n",
            "F1-Score: 0.6096\n",
            "Epoch 00122 | Loss: 0.4185\n",
            "Epoch 00123 | Loss: 0.4185\n",
            "Epoch 00124 | Loss: 0.4202\n",
            "Epoch 00125 | Loss: 0.4198\n",
            "Epoch 00126 | Loss: 0.4212\n",
            "F1-Score: 0.6258\n",
            "Epoch 00127 | Loss: 0.4209\n",
            "Epoch 00128 | Loss: 0.4217\n",
            "Epoch 00129 | Loss: 0.4214\n",
            "Epoch 00130 | Loss: 0.4206\n",
            "Epoch 00131 | Loss: 0.4186\n",
            "F1-Score: 0.6195\n",
            "Epoch 00132 | Loss: 0.4177\n",
            "Epoch 00133 | Loss: 0.4167\n",
            "Epoch 00134 | Loss: 0.4162\n",
            "Epoch 00135 | Loss: 0.4151\n",
            "Epoch 00136 | Loss: 0.4142\n",
            "F1-Score: 0.6349\n",
            "Epoch 00137 | Loss: 0.4130\n",
            "Epoch 00138 | Loss: 0.4124\n",
            "Epoch 00139 | Loss: 0.4114\n",
            "Epoch 00140 | Loss: 0.4106\n",
            "Epoch 00141 | Loss: 0.4103\n",
            "F1-Score: 0.6439\n",
            "Epoch 00142 | Loss: 0.4102\n",
            "Epoch 00143 | Loss: 0.4093\n",
            "Epoch 00144 | Loss: 0.4100\n",
            "Epoch 00145 | Loss: 0.4101\n",
            "Epoch 00146 | Loss: 0.4101\n",
            "F1-Score: 0.6291\n",
            "Epoch 00147 | Loss: 0.4100\n",
            "Epoch 00148 | Loss: 0.4109\n",
            "Epoch 00149 | Loss: 0.4124\n",
            "Epoch 00150 | Loss: 0.4162\n",
            "Epoch 00151 | Loss: 0.4177\n",
            "F1-Score: 0.6343\n",
            "Epoch 00152 | Loss: 0.4211\n",
            "Epoch 00153 | Loss: 0.4207\n",
            "Epoch 00154 | Loss: 0.4178\n",
            "Epoch 00155 | Loss: 0.4136\n",
            "Epoch 00156 | Loss: 0.4124\n",
            "F1-Score: 0.6387\n",
            "Epoch 00157 | Loss: 0.4125\n",
            "Epoch 00158 | Loss: 0.4111\n",
            "Epoch 00159 | Loss: 0.4115\n",
            "Epoch 00160 | Loss: 0.4126\n",
            "Epoch 00161 | Loss: 0.4143\n",
            "F1-Score: 0.6184\n",
            "Epoch 00162 | Loss: 0.4146\n",
            "Epoch 00163 | Loss: 0.4148\n",
            "Epoch 00164 | Loss: 0.4138\n",
            "Epoch 00165 | Loss: 0.4139\n",
            "Epoch 00166 | Loss: 0.4132\n",
            "F1-Score: 0.5892\n",
            "Epoch 00167 | Loss: 0.4116\n",
            "Epoch 00168 | Loss: 0.4126\n",
            "Epoch 00169 | Loss: 0.4163\n",
            "Epoch 00170 | Loss: 0.4187\n",
            "Epoch 00171 | Loss: 0.4220\n",
            "F1-Score: 0.6516\n",
            "Epoch 00172 | Loss: 0.4242\n",
            "Epoch 00173 | Loss: 0.4216\n",
            "Epoch 00174 | Loss: 0.4232\n",
            "Epoch 00175 | Loss: 0.4230\n",
            "Epoch 00176 | Loss: 0.4235\n",
            "F1-Score: 0.5893\n",
            "Epoch 00177 | Loss: 0.4165\n",
            "Epoch 00178 | Loss: 0.4165\n",
            "Epoch 00179 | Loss: 0.4136\n",
            "Epoch 00180 | Loss: 0.4107\n",
            "Epoch 00181 | Loss: 0.4090\n",
            "F1-Score: 0.6379\n",
            "Epoch 00182 | Loss: 0.4072\n",
            "Epoch 00183 | Loss: 0.4057\n",
            "Epoch 00184 | Loss: 0.4041\n",
            "Epoch 00185 | Loss: 0.4040\n",
            "Epoch 00186 | Loss: 0.4032\n",
            "F1-Score: 0.6445\n",
            "Epoch 00187 | Loss: 0.4043\n",
            "Epoch 00188 | Loss: 0.4035\n",
            "Epoch 00189 | Loss: 0.4035\n",
            "Epoch 00190 | Loss: 0.4029\n",
            "Epoch 00191 | Loss: 0.4024\n",
            "F1-Score: 0.6272\n",
            "Epoch 00192 | Loss: 0.4015\n",
            "Epoch 00193 | Loss: 0.4012\n",
            "Epoch 00194 | Loss: 0.4014\n",
            "Epoch 00195 | Loss: 0.4015\n",
            "Epoch 00196 | Loss: 0.4031\n",
            "F1-Score: 0.6544\n",
            "Epoch 00197 | Loss: 0.4029\n",
            "Epoch 00198 | Loss: 0.4021\n",
            "Epoch 00199 | Loss: 0.4035\n",
            "Epoch 00200 | Loss: 0.4060\n"
          ]
        }
      ],
      "source": [
        "### DEVICE GPU OR CPU : will select GPU if available\n",
        "device = torch.device('cuda' if torch.cuda.is_available() else 'cpu')\n",
        "print(\"\\nDevice: \", device)\n",
        "\n",
        "### Max number of epochs\n",
        "max_epochs = 200\n",
        "\n",
        "### DEFINE THE MODEL\n",
        "basic_model = BasicGraphModel(  input_size = n_features, \n",
        "                                hidden_size = 256, \n",
        "                                output_size = n_classes).to(device)\n",
        "\n",
        "### DEFINE LOSS FUNCTION\n",
        "loss_fcn = nn.BCEWithLogitsLoss()\n",
        "\n",
        "### DEFINE OPTIMIZER\n",
        "optimizer = torch.optim.Adam(basic_model.parameters(), lr=0.005)\n",
        "\n",
        "### TRAIN THE MODEL\n",
        "epoch_list, basic_model_scores = train(basic_model, loss_fcn, device, optimizer, max_epochs, train_dataloader, val_dataloader)"
      ]
    },
    {
      "cell_type": "markdown",
      "metadata": {
        "id": "2sGc5g7Xmap2"
      },
      "source": [
        "Let's evaluate the performance of this basic model"
      ]
    },
    {
      "cell_type": "code",
      "execution_count": null,
      "metadata": {
        "colab": {
          "base_uri": "https://localhost:8080/",
          "height": 353
        },
        "id": "ztfbbg2TNP7F",
        "outputId": "42eb7b48-561f-466e-89bd-f66d0ab710a4"
      },
      "outputs": [
        {
          "output_type": "stream",
          "name": "stdout",
          "text": [
            "Basic Model : F1-Score on the test set: 0.6390\n"
          ]
        },
        {
          "output_type": "display_data",
          "data": {
            "text/plain": [
              "<Figure size 720x360 with 1 Axes>"
            ],
            "image/png": "[encoded data removed]"
          },
          "metadata": {
            "needs_background": "light"
          }
        }
      ],
      "source": [
        "### F1-SCORE ON TEST DATASET\n",
        "score_test = evaluate(basic_model, loss_fcn, device, test_dataloader)\n",
        "print(\"Basic Model : F1-Score on the test set: {:.4f}\".format(score_test))\n",
        "\n",
        "### PLOT EVOLUTION OF F1-SCORE W.R.T EPOCHS\n",
        "def plot_f1_score(epoch_list, scores) :\n",
        "    plt.figure(figsize=[10,5])\n",
        "    plt.plot(epoch_list, scores)\n",
        "    plt.title(\"Evolution of F1S-Score w.r.t epochs\")\n",
        "    plt.ylim([0.0, 1.0])\n",
        "    plt.show()\n",
        "    \n",
        "plot_f1_score(epoch_list, basic_model_scores)"
      ]
    },
    {
      "cell_type": "markdown",
      "metadata": {
        "id": "TRVsy5vLnWm_"
      },
      "source": [
        "### Define a better model\n",
        "\n",
        "Now, it's your turn to improve this basic model ! To do so, complete whenever ###### YOUR ANSWER ######## and run the two following cells.\n",
        "\n",
        "**HINT :** https://arxiv.org/pdf/1710.10903.pdf"
      ]
    },
    {
      "cell_type": "code",
      "source": [
        "class GAT(nn.Module):\n",
        "    def __init__(self, in_size, hid_size, out_size, heads):\n",
        "        super().__init__()\n",
        "        self.gat_layers = nn.ModuleList()\n",
        "        # three-layer GAT\n",
        "        self.gat_layers.append(\n",
        "            graphnn.GATv2Conv(in_size, hid_size, heads[0],concat=True, dropout=0.0)\n",
        "        )\n",
        "        self.gat_layers.append(\n",
        "            graphnn.GATConv(\n",
        "                hid_size * heads[0],\n",
        "                hid_size,\n",
        "                heads[1],\n",
        "                dropout=0.0,\n",
        "                concat=True,\n",
        "            )\n",
        "        )\n",
        "\n",
        "        self.gat_layers.append(\n",
        "            graphnn.GATv2Conv(\n",
        "                hid_size * heads[1],\n",
        "                out_size,\n",
        "                heads[2],\n",
        "                dropout=0.0,\n",
        "                concat=False\n",
        "            )\n",
        "        )\n",
        "        self.elu=nn.ELU()\n",
        "\n",
        "    def forward(self, x, edge_index):\n",
        "        for i, layer in enumerate(self.gat_layers):\n",
        "            x = layer(x, edge_index)\n",
        "            if i == 2:  # last layer\n",
        "                x = x\n",
        "            else:  # other layers\n",
        "                x = self.elu(x)\n",
        "                x = nn.functional.dropout(x, p=0.0, training=self.training)\n",
        "        return x"
      ],
      "metadata": {
        "id": "aUqbS4Ykgert"
      },
      "execution_count": null,
      "outputs": []
    },
    {
      "cell_type": "markdown",
      "metadata": {
        "id": "4yGdQ2uxpCAX"
      },
      "source": [
        "Let's train your model !"
      ]
    },
    {
      "cell_type": "code",
      "execution_count": null,
      "metadata": {
        "id": "6XIYzkYRo3AQ",
        "colab": {
          "base_uri": "https://localhost:8080/"
        },
        "outputId": "7d651801-bcc6-4332-ae2b-cd00b63d5589"
      },
      "outputs": [
        {
          "output_type": "stream",
          "name": "stdout",
          "text": [
            "\n",
            "Device:  cuda\n",
            "Epoch 00001 | Loss: 0.6481\n",
            "F1-Score: 0.3675\n",
            "Epoch 00002 | Loss: 0.5592\n",
            "Epoch 00003 | Loss: 0.5468\n",
            "Epoch 00004 | Loss: 0.5375\n",
            "Epoch 00005 | Loss: 0.5243\n",
            "Epoch 00006 | Loss: 0.5143\n",
            "F1-Score: 0.4914\n",
            "Epoch 00007 | Loss: 0.5051\n",
            "Epoch 00008 | Loss: 0.4995\n",
            "Epoch 00009 | Loss: 0.4890\n",
            "Epoch 00010 | Loss: 0.4749\n",
            "Epoch 00011 | Loss: 0.4596\n",
            "F1-Score: 0.5888\n",
            "Epoch 00012 | Loss: 0.4506\n",
            "Epoch 00013 | Loss: 0.4456\n",
            "Epoch 00014 | Loss: 0.4282\n",
            "Epoch 00015 | Loss: 0.4094\n",
            "Epoch 00016 | Loss: 0.4051\n",
            "F1-Score: 0.6091\n",
            "Epoch 00017 | Loss: 0.3959\n",
            "Epoch 00018 | Loss: 0.3883\n",
            "Epoch 00019 | Loss: 0.3668\n",
            "Epoch 00020 | Loss: 0.3477\n",
            "Epoch 00021 | Loss: 0.3308\n",
            "F1-Score: 0.7402\n",
            "Epoch 00022 | Loss: 0.3245\n",
            "Epoch 00023 | Loss: 0.3193\n",
            "Epoch 00024 | Loss: 0.3077\n",
            "Epoch 00025 | Loss: 0.2921\n",
            "Epoch 00026 | Loss: 0.2799\n",
            "F1-Score: 0.7749\n",
            "Epoch 00027 | Loss: 0.2708\n",
            "Epoch 00028 | Loss: 0.2578\n",
            "Epoch 00029 | Loss: 0.2522\n",
            "Epoch 00030 | Loss: 0.2505\n",
            "Epoch 00031 | Loss: 0.2540\n",
            "F1-Score: 0.8003\n",
            "Epoch 00032 | Loss: 0.2420\n",
            "Epoch 00033 | Loss: 0.2282\n",
            "Epoch 00034 | Loss: 0.2166\n",
            "Epoch 00035 | Loss: 0.2081\n",
            "Epoch 00036 | Loss: 0.1949\n",
            "F1-Score: 0.8464\n",
            "Epoch 00037 | Loss: 0.1848\n",
            "Epoch 00038 | Loss: 0.1799\n",
            "Epoch 00039 | Loss: 0.1794\n",
            "Epoch 00040 | Loss: 0.1778\n",
            "Epoch 00041 | Loss: 0.1751\n",
            "F1-Score: 0.8651\n",
            "Epoch 00042 | Loss: 0.1697\n",
            "Epoch 00043 | Loss: 0.1681\n",
            "Epoch 00044 | Loss: 0.1535\n",
            "Epoch 00045 | Loss: 0.1432\n",
            "Epoch 00046 | Loss: 0.1366\n",
            "F1-Score: 0.8907\n",
            "Epoch 00047 | Loss: 0.1325\n",
            "Epoch 00048 | Loss: 0.1320\n",
            "Epoch 00049 | Loss: 0.1398\n",
            "Epoch 00050 | Loss: 0.1439\n",
            "Epoch 00051 | Loss: 0.1541\n",
            "F1-Score: 0.8830\n",
            "Epoch 00052 | Loss: 0.1441\n",
            "Epoch 00053 | Loss: 0.1342\n",
            "Epoch 00054 | Loss: 0.1277\n",
            "Epoch 00055 | Loss: 0.1198\n",
            "Epoch 00056 | Loss: 0.1121\n",
            "F1-Score: 0.9091\n",
            "Epoch 00057 | Loss: 0.1036\n",
            "Epoch 00058 | Loss: 0.0952\n",
            "Epoch 00059 | Loss: 0.0898\n",
            "Epoch 00060 | Loss: 0.0861\n",
            "Epoch 00061 | Loss: 0.0853\n",
            "F1-Score: 0.9243\n",
            "Epoch 00062 | Loss: 0.0828\n",
            "Epoch 00063 | Loss: 0.0813\n",
            "Epoch 00064 | Loss: 0.0798\n",
            "Epoch 00065 | Loss: 0.0786\n",
            "Epoch 00066 | Loss: 0.0762\n",
            "F1-Score: 0.9311\n",
            "Epoch 00067 | Loss: 0.0774\n",
            "Epoch 00068 | Loss: 0.0770\n",
            "Epoch 00069 | Loss: 0.0789\n",
            "Epoch 00070 | Loss: 0.0859\n",
            "Epoch 00071 | Loss: 0.0896\n",
            "F1-Score: 0.9248\n",
            "Epoch 00072 | Loss: 0.0960\n",
            "Epoch 00073 | Loss: 0.0983\n",
            "Epoch 00074 | Loss: 0.0933\n",
            "Epoch 00075 | Loss: 0.0874\n",
            "Epoch 00076 | Loss: 0.0769\n",
            "F1-Score: 0.9334\n",
            "Epoch 00077 | Loss: 0.0686\n",
            "Epoch 00078 | Loss: 0.0618\n",
            "Epoch 00079 | Loss: 0.0583\n",
            "Epoch 00080 | Loss: 0.0557\n",
            "Epoch 00081 | Loss: 0.0530\n",
            "F1-Score: 0.9456\n",
            "Epoch 00082 | Loss: 0.0519\n",
            "Epoch 00083 | Loss: 0.0495\n",
            "Epoch 00084 | Loss: 0.0485\n",
            "Epoch 00085 | Loss: 0.0479\n",
            "Epoch 00086 | Loss: 0.0472\n",
            "F1-Score: 0.9465\n",
            "Epoch 00087 | Loss: 0.0470\n",
            "Epoch 00088 | Loss: 0.0483\n",
            "Epoch 00089 | Loss: 0.0473\n",
            "Epoch 00090 | Loss: 0.0482\n",
            "Epoch 00091 | Loss: 0.0482\n",
            "F1-Score: 0.9460\n",
            "Epoch 00092 | Loss: 0.0471\n",
            "Epoch 00093 | Loss: 0.0470\n",
            "Epoch 00094 | Loss: 0.0460\n",
            "Epoch 00095 | Loss: 0.0484\n",
            "Epoch 00096 | Loss: 0.0503\n",
            "F1-Score: 0.9442\n",
            "Epoch 00097 | Loss: 0.0516\n",
            "Epoch 00098 | Loss: 0.0515\n",
            "Epoch 00099 | Loss: 0.0521\n",
            "Epoch 00100 | Loss: 0.0560\n",
            "Epoch 00101 | Loss: 0.0589\n",
            "F1-Score: 0.9414\n",
            "Epoch 00102 | Loss: 0.0671\n",
            "Epoch 00103 | Loss: 0.0732\n",
            "Epoch 00104 | Loss: 0.0823\n",
            "Epoch 00105 | Loss: 0.0830\n",
            "Epoch 00106 | Loss: 0.0749\n",
            "F1-Score: 0.9371\n",
            "Epoch 00107 | Loss: 0.0670\n",
            "Epoch 00108 | Loss: 0.0611\n",
            "Epoch 00109 | Loss: 0.0533\n",
            "Epoch 00110 | Loss: 0.0453\n",
            "Epoch 00111 | Loss: 0.0392\n",
            "F1-Score: 0.9552\n",
            "Epoch 00112 | Loss: 0.0353\n",
            "Epoch 00113 | Loss: 0.0327\n",
            "Epoch 00114 | Loss: 0.0308\n",
            "Epoch 00115 | Loss: 0.0298\n",
            "Epoch 00116 | Loss: 0.0289\n",
            "F1-Score: 0.9585\n",
            "Epoch 00117 | Loss: 0.0276\n",
            "Epoch 00118 | Loss: 0.0277\n",
            "Epoch 00119 | Loss: 0.0272\n",
            "Epoch 00120 | Loss: 0.0263\n",
            "Epoch 00121 | Loss: 0.0265\n",
            "F1-Score: 0.9560\n",
            "Epoch 00122 | Loss: 0.0269\n",
            "Epoch 00123 | Loss: 0.0279\n",
            "Epoch 00124 | Loss: 0.0295\n",
            "Epoch 00125 | Loss: 0.0369\n",
            "Epoch 00126 | Loss: 0.0436\n",
            "F1-Score: 0.9476\n",
            "Epoch 00127 | Loss: 0.0452\n",
            "Epoch 00128 | Loss: 0.0427\n",
            "Epoch 00129 | Loss: 0.0401\n",
            "Epoch 00130 | Loss: 0.0403\n",
            "Epoch 00131 | Loss: 0.0414\n",
            "F1-Score: 0.9507\n",
            "Epoch 00132 | Loss: 0.0446\n",
            "Epoch 00133 | Loss: 0.0434\n",
            "Epoch 00134 | Loss: 0.0398\n",
            "Epoch 00135 | Loss: 0.0360\n",
            "Epoch 00136 | Loss: 0.0322\n",
            "F1-Score: 0.9570\n",
            "Epoch 00137 | Loss: 0.0292\n",
            "Epoch 00138 | Loss: 0.0265\n",
            "Epoch 00139 | Loss: 0.0241\n",
            "Epoch 00140 | Loss: 0.0226\n",
            "Epoch 00141 | Loss: 0.0211\n",
            "F1-Score: 0.9632\n",
            "Epoch 00142 | Loss: 0.0199\n",
            "Epoch 00143 | Loss: 0.0190\n",
            "Epoch 00144 | Loss: 0.0185\n",
            "Epoch 00145 | Loss: 0.0186\n",
            "Epoch 00146 | Loss: 0.0194\n",
            "F1-Score: 0.9635\n",
            "Epoch 00147 | Loss: 0.0197\n",
            "Epoch 00148 | Loss: 0.0209\n",
            "Epoch 00149 | Loss: 0.0216\n",
            "Epoch 00150 | Loss: 0.0239\n",
            "Epoch 00151 | Loss: 0.0234\n",
            "F1-Score: 0.9597\n",
            "Epoch 00152 | Loss: 0.0254\n",
            "Epoch 00153 | Loss: 0.0249\n",
            "Epoch 00154 | Loss: 0.0260\n",
            "Epoch 00155 | Loss: 0.0271\n",
            "Epoch 00156 | Loss: 0.0301\n",
            "F1-Score: 0.9559\n",
            "Epoch 00157 | Loss: 0.0292\n",
            "Epoch 00158 | Loss: 0.0348\n",
            "Epoch 00159 | Loss: 0.0406\n",
            "Epoch 00160 | Loss: 0.0506\n",
            "Epoch 00161 | Loss: 0.1514\n",
            "F1-Score: 0.8786\n",
            "Epoch 00162 | Loss: 0.1930\n",
            "Epoch 00163 | Loss: 0.1415\n",
            "Epoch 00164 | Loss: 0.0966\n",
            "Epoch 00165 | Loss: 0.0686\n",
            "Epoch 00166 | Loss: 0.0498\n",
            "F1-Score: 0.9523\n",
            "Epoch 00167 | Loss: 0.0379\n",
            "Epoch 00168 | Loss: 0.0307\n",
            "Epoch 00169 | Loss: 0.0255\n",
            "Epoch 00170 | Loss: 0.0225\n",
            "Epoch 00171 | Loss: 0.0199\n",
            "F1-Score: 0.9644\n",
            "Epoch 00172 | Loss: 0.0188\n",
            "Epoch 00173 | Loss: 0.0184\n",
            "Epoch 00174 | Loss: 0.0183\n",
            "Epoch 00175 | Loss: 0.0181\n",
            "Epoch 00176 | Loss: 0.0179\n",
            "F1-Score: 0.9659\n",
            "Epoch 00177 | Loss: 0.0160\n",
            "Epoch 00178 | Loss: 0.0158\n",
            "Epoch 00179 | Loss: 0.0148\n",
            "Epoch 00180 | Loss: 0.0142\n",
            "Epoch 00181 | Loss: 0.0137\n",
            "F1-Score: 0.9672\n",
            "Epoch 00182 | Loss: 0.0128\n",
            "Epoch 00183 | Loss: 0.0119\n",
            "Epoch 00184 | Loss: 0.0116\n",
            "Epoch 00185 | Loss: 0.0110\n",
            "Epoch 00186 | Loss: 0.0107\n",
            "F1-Score: 0.9687\n",
            "Epoch 00187 | Loss: 0.0101\n",
            "Epoch 00188 | Loss: 0.0108\n",
            "Epoch 00189 | Loss: 0.0105\n",
            "Epoch 00190 | Loss: 0.0105\n",
            "Epoch 00191 | Loss: 0.0103\n",
            "F1-Score: 0.9677\n",
            "Epoch 00192 | Loss: 0.0111\n",
            "Epoch 00193 | Loss: 0.0101\n",
            "Epoch 00194 | Loss: 0.0101\n",
            "Epoch 00195 | Loss: 0.0095\n",
            "Epoch 00196 | Loss: 0.0094\n",
            "F1-Score: 0.9694\n",
            "Epoch 00197 | Loss: 0.0096\n",
            "Epoch 00198 | Loss: 0.0102\n",
            "Epoch 00199 | Loss: 0.0089\n",
            "Epoch 00200 | Loss: 0.0082\n"
          ]
        }
      ],
      "source": [
        "device = torch.device('cuda' if torch.cuda.is_available() else 'cpu')\n",
        "print(\"\\nDevice: \", device)\n",
        "\n",
        "max_epochs = 200\n",
        "\n",
        "## Student model\n",
        "student_model = GAT(in_size = n_features, \n",
        "                    hid_size = 256, \n",
        "                    out_size = n_classes,\n",
        "                    heads=[4,4,6]).to(device)\n",
        "\n",
        "### DEFINE LOSS FUNCTION AND OPTIMIZER\n",
        "optimizer = torch.optim.Adam(student_model.parameters(), lr=0.005)\n",
        "loss_fcn = nn.BCEWithLogitsLoss()\n",
        "### TRAIN\n",
        "epoch_list, student_model_scores = train(student_model, loss_fcn, device, optimizer, max_epochs, train_dataloader, val_dataloader)"
      ]
    },
    {
      "cell_type": "markdown",
      "metadata": {
        "id": "aWatNTPBpQGY"
      },
      "source": [
        "Let's evaluate the performance of your model"
      ]
    },
    {
      "cell_type": "code",
      "execution_count": null,
      "metadata": {
        "id": "WFWMqwDuSj7b",
        "colab": {
          "base_uri": "https://localhost:8080/",
          "height": 367
        },
        "outputId": "7c45a014-1056-4750-a163-b39280514c7b"
      },
      "outputs": [
        {
          "output_type": "stream",
          "name": "stdout",
          "text": [
            "Student Model : F1-Score on the test set: 0.9820\n"
          ]
        },
        {
          "output_type": "display_data",
          "data": {
            "text/plain": [
              "<Figure size 720x360 with 1 Axes>"
            ],
            "image/png": "[encoded data removed]"
          },
          "metadata": {
            "needs_background": "light"
          }
        }
      ],
      "source": [
        "score_test = evaluate(student_model, loss_fcn, device, test_dataloader)\n",
        "print(\"Student Model : F1-Score on the test set: {:.4f}\".format(score_test))\n",
        "\n",
        "def plot_f1_score(epoch_list, basic_model_scores, student_model_scores) :\n",
        "    plt.figure(figsize = [10,5])\n",
        "    plt.plot(epoch_list, basic_model_scores, 'b', label = \"Basic Model\")\n",
        "    plt.plot(epoch_list, student_model_scores, 'r', label = \"Student Model\")\n",
        "    plt.title(\"Evolution of f1 score w.r.t epochs\")\n",
        "    plt.ylim([0.0, 1.0])\n",
        "    plt.ylabel(\"Epochs\")\n",
        "    plt.xlabel(\"F1-Score\")\n",
        "    plt.legend()\n",
        "    plt.show()\n",
        "    \n",
        "plot_f1_score(epoch_list, basic_model_scores, student_model_scores)"
      ]
    }
  ],
  "metadata": {
    "colab": {
      "provenance": [],
      "machine_shape": "hm",
      "include_colab_link": true
    },
    "gpuClass": "standard",
    "kernelspec": {
      "display_name": "Python 3",
      "language": "python",
      "name": "python3"
    },
    "language_info": {
      "codemirror_mode": {
        "name": "ipython",
        "version": 3
      },
      "file_extension": ".py",
      "mimetype": "text/x-python",
      "name": "python",
      "nbconvert_exporter": "python",
      "pygments_lexer": "ipython3",
      "version": "3.7.6"
    },
    "accelerator": "GPU"
  },
  "nbformat": 4,
  "nbformat_minor": 0
}